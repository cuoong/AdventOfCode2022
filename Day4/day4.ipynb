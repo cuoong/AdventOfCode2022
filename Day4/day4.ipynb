{
 "cells": [
  {
   "cell_type": "code",
   "execution_count": 2,
   "metadata": {},
   "outputs": [],
   "source": [
    "file = open('../Day4/input.txt')\n",
    "lines = file.readlines()"
   ]
  },
  {
   "cell_type": "code",
   "execution_count": 86,
   "metadata": {},
   "outputs": [
    {
     "name": "stdout",
     "output_type": "stream",
     "text": [
      "599\n",
      "928\n"
     ]
    }
   ],
   "source": [
    "part1 = 0\n",
    "part2 = 0\n",
    "for line in lines:\n",
    "  left, right = line.split(',')\n",
    "  s1, e1 = left.split('-')\n",
    "  s2, e2 = right.split('-')\n",
    "  s1,e1,s2,e2 = [int(x) for x in [s1,e1,s2,e2]]\n",
    "  # R fully contain in L if s1 <= s2 and e2 <= e1\n",
    "  if s1<=s2 and e2<=e1 or s2<=s1 and e1<=e2:\n",
    "    part1 += 1\n",
    "  # (s2,e2) overlaps (s1,e1) if it is not completely to the left or completely to the right\n",
    "  #         s2 -- e2\n",
    "  #    e1              s1\n",
    "  if not (e1 < s2 or s1 > e2):\n",
    "        part2 += 1"
   ]
  }
 ],
 "metadata": {
  "kernelspec": {
   "display_name": "Python 3.9.6 64-bit",
   "language": "python",
   "name": "python3"
  },
  "language_info": {
   "codemirror_mode": {
    "name": "ipython",
    "version": 3
   },
   "file_extension": ".py",
   "mimetype": "text/x-python",
   "name": "python",
   "nbconvert_exporter": "python",
   "pygments_lexer": "ipython3",
   "version": "3.9.6"
  },
  "orig_nbformat": 4,
  "vscode": {
   "interpreter": {
    "hash": "31f2aee4e71d21fbe5cf8b01ff0e069b9275f58929596ceb00d14d90e3e16cd6"
   }
  }
 },
 "nbformat": 4,
 "nbformat_minor": 2
}
