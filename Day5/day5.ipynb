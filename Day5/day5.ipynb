{
 "cells": [
  {
   "cell_type": "code",
   "execution_count": 27,
   "metadata": {},
   "outputs": [
    {
     "name": "stdout",
     "output_type": "stream",
     "text": [
      "9\n",
      "JDTMRWCQJ\n"
     ]
    }
   ],
   "source": [
    "import re\n",
    "\n",
    "file = open('../Day5/input.txt', 'r')\n",
    "stackCrate, cmd = file.read().split('\\n\\n')\n",
    "stackCrate = stackCrate.split('\\n')\n",
    "cmd = cmd.split('\\n')\n",
    "noc = stackCrate.pop()\n",
    "length = max((' '.join(noc.split(' ')).split()))\n",
    "print(length)\n",
    "stacks = [[] for _ in range(int(length))]\n",
    "\n",
    "for i in range(int(length) - 1): \n",
    "  line = stackCrate[i]\n",
    "  crates = line[1::4]\n",
    "  for j in range(len(crates)):\n",
    "    if crates[j] != ' ':\n",
    "      stacks[j].append(crates[j])\n",
    "stacks = [stack [::-1] for stack in stacks]      \n",
    "\n",
    "for line in cmd: \n",
    "  value1, value2, value3 = map(int, re.findall('\\\\d+', line))\n",
    "  # crates are moved one at a time\n",
    "  value2 -= 1\n",
    "  value3 -= 1\n",
    "  for _ in range(value1):\n",
    "    pop = stacks[value2].pop() # from\n",
    "    stacks[value3].append(pop) # to\n",
    "    \n",
    "peaks = [stack[-1] for stack in stacks]\n",
    "print(''.join(peaks))\n"
   ]
  }
 ],
 "metadata": {
  "kernelspec": {
   "display_name": "Python 3.9.6 64-bit",
   "language": "python",
   "name": "python3"
  },
  "language_info": {
   "codemirror_mode": {
    "name": "ipython",
    "version": 3
   },
   "file_extension": ".py",
   "mimetype": "text/x-python",
   "name": "python",
   "nbconvert_exporter": "python",
   "pygments_lexer": "ipython3",
   "version": "3.9.6"
  },
  "orig_nbformat": 4,
  "vscode": {
   "interpreter": {
    "hash": "31f2aee4e71d21fbe5cf8b01ff0e069b9275f58929596ceb00d14d90e3e16cd6"
   }
  }
 },
 "nbformat": 4,
 "nbformat_minor": 2
}
