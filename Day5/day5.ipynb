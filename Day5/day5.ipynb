{
 "cells": [
  {
   "cell_type": "code",
   "execution_count": 16,
   "metadata": {},
   "outputs": [
    {
     "name": "stdout",
     "output_type": "stream",
     "text": [
      "9\n",
      "JDTMRWCQJ\n"
     ]
    },
    {
     "ename": "IndexError",
     "evalue": "list index out of range",
     "output_type": "error",
     "traceback": [
      "\u001b[0;31m---------------------------------------------------------------------------\u001b[0m",
      "\u001b[0;31mIndexError\u001b[0m                                Traceback (most recent call last)",
      "Cell \u001b[0;32mIn[16], line 41\u001b[0m\n\u001b[1;32m     38\u001b[0m   stacks[to]\u001b[39m.\u001b[39mextend(stacks[fro][\u001b[39m-\u001b[39mn:])\n\u001b[1;32m     39\u001b[0m   stacks[fro] \u001b[39m=\u001b[39m stacks[fro][:\u001b[39m-\u001b[39mn]\n\u001b[0;32m---> 41\u001b[0m zpeaks \u001b[39m=\u001b[39m [stack[\u001b[39m-\u001b[39m\u001b[39m1\u001b[39m] \u001b[39mfor\u001b[39;00m stack \u001b[39min\u001b[39;00m stacks]\n\u001b[1;32m     42\u001b[0m \u001b[39m# print(''.join(peaks))\u001b[39;00m\n",
      "Cell \u001b[0;32mIn[16], line 41\u001b[0m, in \u001b[0;36m<listcomp>\u001b[0;34m(.0)\u001b[0m\n\u001b[1;32m     38\u001b[0m   stacks[to]\u001b[39m.\u001b[39mextend(stacks[fro][\u001b[39m-\u001b[39mn:])\n\u001b[1;32m     39\u001b[0m   stacks[fro] \u001b[39m=\u001b[39m stacks[fro][:\u001b[39m-\u001b[39mn]\n\u001b[0;32m---> 41\u001b[0m zpeaks \u001b[39m=\u001b[39m [stack[\u001b[39m-\u001b[39;49m\u001b[39m1\u001b[39;49m] \u001b[39mfor\u001b[39;00m stack \u001b[39min\u001b[39;00m stacks]\n\u001b[1;32m     42\u001b[0m \u001b[39m# print(''.join(peaks))\u001b[39;00m\n",
      "\u001b[0;31mIndexError\u001b[0m: list index out of range"
     ]
    }
   ],
   "source": [
    "import re\n",
    "\n",
    "file = open('../Day5/input.txt', 'r')\n",
    "stackCrate, cmd = file.read().split('\\n\\n')\n",
    "stackCrate = stackCrate.split('\\n')\n",
    "cmd = cmd.split('\\n')\n",
    "noc = stackCrate.pop()\n",
    "length = max((' '.join(noc.split(' ')).split()))\n",
    "print(length)\n",
    "stacks = [[] for _ in range(int(length))]\n",
    "\n",
    "for i in range(int(length) - 1): \n",
    "  line = stackCrate[i]\n",
    "  crates = line[1::4]\n",
    "  for j in range(len(crates)):\n",
    "    if crates[j] != ' ':\n",
    "      stacks[j].append(crates[j])\n",
    "stacks = [stack [::-1] for stack in stacks]      \n",
    "\n",
    "for line in cmd: \n",
    "  value1, value2, value3 = map(int, re.findall('\\\\d+', line))\n",
    "  # crates are moved one at a time\n",
    "  value2 -= 1\n",
    "  value3 -= 1\n",
    "  for _ in range(value1):\n",
    "    pop = stacks[value2].pop() # from\n",
    "    stacks[value3].append(pop) # to\n",
    "    \n",
    "peaks = [stack[-1] for stack in stacks]\n",
    "print(''.join(peaks))\n"
   ]
  },
  {
   "cell_type": "code",
   "execution_count": 20,
   "metadata": {},
   "outputs": [
    {
     "name": "stdout",
     "output_type": "stream",
     "text": [
      "VHJDDCWRD\n"
     ]
    }
   ],
   "source": [
    "# part 2      \n",
    "import re\n",
    "\n",
    "file = open('../Day5/input.txt', 'r')\n",
    "stackCrate, cmd = file.read().split('\\n\\n')\n",
    "stackCrate = stackCrate.split('\\n')\n",
    "cmd = cmd.split('\\n')\n",
    "noc = stackCrate.pop()\n",
    "length = max((' '.join(noc.split(' ')).split()))\n",
    "stacks = [[] for _ in range(int(length))]\n",
    "\n",
    "for i in range(int(length) - 1): \n",
    "  line = stackCrate[i]\n",
    "  crates = line[1::4]\n",
    "  for j in range(len(crates)):\n",
    "    if crates[j] != ' ':\n",
    "      stacks[j].append(crates[j])\n",
    "stacks = [stack [::-1] for stack in stacks]     \n",
    "\n",
    "for line in cmd:\n",
    "  n, fro, to = map(int, re.findall('\\\\d+', line))\n",
    "  fro -= 1\n",
    "  to -= 1\n",
    "  stacks[to].extend(stacks[fro][-n:])\n",
    "  stacks[fro] = stacks[fro][:-n]\n",
    "  \n",
    "peaks = [stack[-1] for stack in stacks]\n",
    "print(''.join(peaks))"
   ]
  }
 ],
 "metadata": {
  "kernelspec": {
   "display_name": "Python 3.9.6 64-bit",
   "language": "python",
   "name": "python3"
  },
  "language_info": {
   "codemirror_mode": {
    "name": "ipython",
    "version": 3
   },
   "file_extension": ".py",
   "mimetype": "text/x-python",
   "name": "python",
   "nbconvert_exporter": "python",
   "pygments_lexer": "ipython3",
   "version": "3.9.6"
  },
  "orig_nbformat": 4,
  "vscode": {
   "interpreter": {
    "hash": "31f2aee4e71d21fbe5cf8b01ff0e069b9275f58929596ceb00d14d90e3e16cd6"
   }
  }
 },
 "nbformat": 4,
 "nbformat_minor": 2
}
